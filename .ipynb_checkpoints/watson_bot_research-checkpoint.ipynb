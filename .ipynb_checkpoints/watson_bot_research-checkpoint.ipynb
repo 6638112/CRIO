{
 "cells": [
  {
   "cell_type": "code",
   "execution_count": null,
   "metadata": {},
   "outputs": [],
   "source": [
    "while True:\n",
    "    user_input = str(input('enter text :'))\n",
    "    \n",
    "    if user_input == 'q' or user_input == 'Q':\n",
    "        break\n",
    "    \n",
    "    import json\n",
    "    import ibm_watson\n",
    "\n",
    "    assistant = ibm_watson.AssistantV1(\n",
    "        version='2019-02-28',\n",
    "        url='https://gateway-lon.watsonplatform.net/assistant/api',\n",
    "        iam_apikey='BNfXNhGUERnE1hpQCXrTTvLNqJhrxsiQ2mHKs0qhmecV'\n",
    "    )\n",
    "\n",
    "    response = assistant.message(\n",
    "        workspace_id=\"2fe0180a-0490-45b9-bf2a-4dd4b9e31939\",\n",
    "        input={\n",
    "            'text': user_input\n",
    "        }\n",
    "    ).get_result()\n",
    "\n",
    "    print('Response from Watson Assistant :' + str(response['output']['text'][0]))\n",
    "\n",
    "\n",
    "\n",
    "    query = []\n",
    "    tags = []\n",
    "    for i in response['entities']:\n",
    "        if i['entity'] == 'query':\n",
    "            query.append(i['value'])\n",
    "\n",
    "        if i['entity'] == 'tags':\n",
    "            tags.append(i['value'] + ':' +str(i['confidence']))\n",
    "\n",
    "    if len(query) >= 1:\n",
    "        print('Query is :' + str(response['input']['text']))\n",
    "\n",
    "    if len(tags) >= 1:\n",
    "        print('tags is :' + str(tags))"
   ]
  }
 ],
 "metadata": {
  "kernelspec": {
   "display_name": "Python 3",
   "language": "python",
   "name": "python3"
  },
  "language_info": {
   "codemirror_mode": {
    "name": "ipython",
    "version": 3
   },
   "file_extension": ".py",
   "mimetype": "text/x-python",
   "name": "python",
   "nbconvert_exporter": "python",
   "pygments_lexer": "ipython3",
   "version": "3.6.4"
  }
 },
 "nbformat": 4,
 "nbformat_minor": 2
}
