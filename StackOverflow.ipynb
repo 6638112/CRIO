{
 "cells": [
  {
   "cell_type": "markdown",
   "metadata": {},
   "source": [
    "# Project\n",
    "# Project Name:- Identification of User Query on Stack Overflow Using Semantic Search\n",
    "### Semantic search seeks to improve search accuracy by understanding the searcher's intent.\n",
    "\n",
    "## Objectives of Project:-\n",
    "\n",
    "### 1.To identify most relevant questions to a query [text similarity]\n",
    "### 2.Identify the matching tags and pick top relevant questions from stack overflow.\n",
    "### 3.To identify top k solutions of the problem. (sentiment analysis of review content)\n",
    "### 4.Take important information from comments also.\n",
    "### 5. More will be added here.....bcoz DATA SPEAKS A LOT"
   ]
  },
  {
   "cell_type": "markdown",
   "metadata": {},
   "source": [
    "### Let's begin by getting our app registered on stack apps site to get api keys to use them for our query\n",
    "<img src=\"stackapi.PNG\">"
   ]
  },
  {
   "cell_type": "markdown",
   "metadata": {},
   "source": [
    "# Let's Play with data from Stack Overflow API"
   ]
  },
  {
   "cell_type": "markdown",
   "metadata": {},
   "source": [
    "## Creating a Spark Session"
   ]
  },
  {
   "cell_type": "code",
   "execution_count": 1,
   "metadata": {},
   "outputs": [],
   "source": [
    "from pyspark.sql import SparkSession\n",
    "spark = SparkSession.builder.appName(\"Basics\").getOrCreate()"
   ]
  },
  {
   "cell_type": "markdown",
   "metadata": {},
   "source": [
    "## Let's see the top tags on StackOverflow Website"
   ]
  },
  {
   "cell_type": "code",
   "execution_count": 2,
   "metadata": {},
   "outputs": [
    {
     "name": "stdout",
     "output_type": "stream",
     "text": [
      "javascript\n",
      "\n",
      "java\n",
      "\n",
      "c#\n",
      "\n",
      "php\n",
      "\n",
      "android\n",
      "\n",
      "python\n",
      "\n",
      "jquery\n",
      "\n",
      "html\n",
      "\n",
      "c++\n",
      "\n",
      "ios\n",
      "\n",
      "css\n",
      "\n",
      "mysql\n",
      "\n",
      "sql\n",
      "\n",
      "asp.net\n",
      "\n",
      "ruby-on-rails\n",
      "\n",
      "c\n",
      "\n",
      "arrays\n",
      "\n",
      "r\n",
      "\n",
      "objective-c\n",
      "\n",
      ".net\n",
      "\n",
      "node.js\n",
      "\n",
      "json\n",
      "\n",
      "sql-server\n",
      "\n",
      "angularjs\n",
      "\n",
      "swift\n",
      "\n",
      "iphone\n",
      "\n",
      "regex\n",
      "\n",
      "ruby\n",
      "\n",
      "django\n",
      "\n",
      "ajax\n",
      "\n"
     ]
    }
   ],
   "source": [
    "import requests\n",
    "r = requests.get(url=\"https://api.stackexchange.com//2.2/tags?order=desc&sort=popular&site=stackoverflow\")\n",
    "# print(type(r))\n",
    "top_tags = r.json()\n",
    "# print(top_tags['items'][0].keys())\n",
    "\n",
    "# top_tags_name = []\n",
    "for i in range(len(top_tags['items'])):\n",
    "#     top_tags_name.append(top_tags['items'][i]['name'])\n",
    "    print(top_tags['items'][i]['name'])\n",
    "    print(sep = \"\\t\")"
   ]
  },
  {
   "cell_type": "markdown",
   "metadata": {},
   "source": [
    "## Let's Search top questions related to the tag of your choice"
   ]
  },
  {
   "cell_type": "code",
   "execution_count": 3,
   "metadata": {},
   "outputs": [
    {
     "name": "stdout",
     "output_type": "stream",
     "text": [
      "Type a tag from the above list => python\n"
     ]
    }
   ],
   "source": [
    "tag_to_search = input(\"Type a tag from the above list => \")"
   ]
  },
  {
   "cell_type": "markdown",
   "metadata": {},
   "source": [
    "## Get questions related to that tag from the API"
   ]
  },
  {
   "cell_type": "code",
   "execution_count": 4,
   "metadata": {},
   "outputs": [],
   "source": [
    "r = requests.get(url=\"https://api.stackexchange.com//2.2/tags/\"+tag_to_search+\"/faq?site=stackoverflow\")\n",
    "# print(type(r))\n",
    "questions = r.json()"
   ]
  },
  {
   "cell_type": "code",
   "execution_count": 5,
   "metadata": {},
   "outputs": [
    {
     "data": {
      "text/plain": [
       "dict_keys(['items', 'has_more', 'quota_max', 'quota_remaining'])"
      ]
     },
     "execution_count": 5,
     "metadata": {},
     "output_type": "execute_result"
    }
   ],
   "source": [
    "questions.keys()"
   ]
  },
  {
   "cell_type": "code",
   "execution_count": 6,
   "metadata": {},
   "outputs": [
    {
     "name": "stdout",
     "output_type": "stream",
     "text": [
      "True\n",
      "300\n",
      "294\n"
     ]
    }
   ],
   "source": [
    "print(questions['has_more'])\n",
    "print(questions['quota_max'])\n",
    "print(questions['quota_remaining'])"
   ]
  },
  {
   "cell_type": "code",
   "execution_count": 7,
   "metadata": {},
   "outputs": [
    {
     "data": {
      "text/plain": [
       "dict_keys(['tags', 'owner', 'is_answered', 'view_count', 'protected_date', 'accepted_answer_id', 'answer_count', 'score', 'last_activity_date', 'creation_date', 'last_edit_date', 'question_id', 'link', 'title'])"
      ]
     },
     "execution_count": 7,
     "metadata": {},
     "output_type": "execute_result"
    }
   ],
   "source": [
    "questions['items'][0].keys()"
   ]
  },
  {
   "cell_type": "code",
   "execution_count": 8,
   "metadata": {},
   "outputs": [
    {
     "data": {
      "text/plain": [
       "[{'accepted_answer_id': 15112149,\n",
       "  'answer_count': 21,\n",
       "  'creation_date': 1361967983,\n",
       "  'is_answered': True,\n",
       "  'last_activity_date': 1557221420,\n",
       "  'last_edit_date': 1549270529,\n",
       "  'link': 'https://stackoverflow.com/questions/15112125/how-to-test-multiple-variables-against-a-value',\n",
       "  'owner': {'display_name': 'user1877442',\n",
       "   'link': 'https://stackoverflow.com/users/1877442/user1877442',\n",
       "   'profile_image': 'https://www.gravatar.com/avatar/d13a4b93913722793496a3123de88a2c?s=128&d=identicon&r=PG',\n",
       "   'reputation': 2901,\n",
       "   'user_id': 1877442,\n",
       "   'user_type': 'registered'},\n",
       "  'protected_date': 1425777531,\n",
       "  'question_id': 15112125,\n",
       "  'score': 553,\n",
       "  'tags': ['python', 'if-statement', 'comparison', 'match', 'boolean-logic'],\n",
       "  'title': 'How to test multiple variables against a value?',\n",
       "  'view_count': 163194},\n",
       " {'accepted_answer_id': 509295,\n",
       "  'answer_count': 31,\n",
       "  'creation_date': 1233700262,\n",
       "  'is_answered': True,\n",
       "  'last_activity_date': 1560487860,\n",
       "  'last_edit_date': 1557331438,\n",
       "  'link': 'https://stackoverflow.com/questions/509211/understanding-slice-notation',\n",
       "  'owner': {'accept_rate': 56,\n",
       "   'display_name': 'Simon',\n",
       "   'link': 'https://stackoverflow.com/users/24039/simon',\n",
       "   'profile_image': 'https://www.gravatar.com/avatar/56e7993be670c363354b696cff311172?s=128&d=identicon&r=PG',\n",
       "   'reputation': 33417,\n",
       "   'user_id': 24039,\n",
       "   'user_type': 'registered'},\n",
       "  'protected_date': 1360315248,\n",
       "  'question_id': 509211,\n",
       "  'score': 2786,\n",
       "  'tags': ['python', 'list', 'slice', 'iterable'],\n",
       "  'title': 'Understanding slice notation',\n",
       "  'view_count': 1453268},\n",
       " {'accepted_answer_id': 1145781,\n",
       "  'answer_count': 31,\n",
       "  'creation_date': 1247680837,\n",
       "  'is_answered': True,\n",
       "  'last_activity_date': 1557393336,\n",
       "  'last_edit_date': 1553295498,\n",
       "  'link': 'https://stackoverflow.com/questions/1132941/least-astonishment-and-the-mutable-default-argument',\n",
       "  'owner': {'accept_rate': 67,\n",
       "   'display_name': 'Stefano Borini',\n",
       "   'link': 'https://stackoverflow.com/users/78374/stefano-borini',\n",
       "   'profile_image': 'https://www.gravatar.com/avatar/f13cb1b1bd8b16bf6dc6eda558e162a0?s=128&d=identicon&r=PG',\n",
       "   'reputation': 75891,\n",
       "   'user_id': 78374,\n",
       "   'user_type': 'registered'},\n",
       "  'protected_date': 1326471202,\n",
       "  'question_id': 1132941,\n",
       "  'score': 2336,\n",
       "  'tags': ['python',\n",
       "   'language-design',\n",
       "   'default-parameters',\n",
       "   'least-astonishment'],\n",
       "  'title': '&quot;Least Astonishment&quot; and the Mutable Default Argument',\n",
       "  'view_count': 133393},\n",
       " {'accepted_answer_id': 23294659,\n",
       "  'answer_count': 17,\n",
       "  'community_owned_date': 1398432898,\n",
       "  'creation_date': 1398432707,\n",
       "  'is_answered': True,\n",
       "  'last_activity_date': 1559651120,\n",
       "  'last_edit_date': 1490199204,\n",
       "  'link': 'https://stackoverflow.com/questions/23294658/asking-the-user-for-input-until-they-give-a-valid-response',\n",
       "  'owner': {'accept_rate': 92,\n",
       "   'display_name': 'Kevin',\n",
       "   'link': 'https://stackoverflow.com/users/953482/kevin',\n",
       "   'profile_image': 'https://i.stack.imgur.com/T3HH6.png?s=128&g=1',\n",
       "   'reputation': 61864,\n",
       "   'user_id': 953482,\n",
       "   'user_type': 'registered'},\n",
       "  'protected_date': 1421270007,\n",
       "  'question_id': 23294658,\n",
       "  'score': 490,\n",
       "  'tags': ['python', 'validation', 'loops', 'python-3.x', 'user-input'],\n",
       "  'title': 'Asking the user for input until they give a valid response',\n",
       "  'view_count': 351171},\n",
       " {'accepted_answer_id': 2612815,\n",
       "  'answer_count': 15,\n",
       "  'creation_date': 1270889386,\n",
       "  'is_answered': True,\n",
       "  'last_activity_date': 1557810404,\n",
       "  'last_edit_date': 1550839406,\n",
       "  'link': 'https://stackoverflow.com/questions/2612802/how-to-clone-or-copy-a-list',\n",
       "  'owner': {'accept_rate': 99,\n",
       "   'display_name': 'aF.',\n",
       "   'link': 'https://stackoverflow.com/users/187730/af',\n",
       "   'profile_image': 'https://www.gravatar.com/avatar/779f1fe080fea457f5ab867d34572363?s=128&d=identicon&r=PG',\n",
       "   'reputation': 33081,\n",
       "   'user_id': 187730,\n",
       "   'user_type': 'registered'},\n",
       "  'protected_date': 1417799428,\n",
       "  'question_id': 2612802,\n",
       "  'score': 2121,\n",
       "  'tags': ['python', 'list', 'copy', 'clone'],\n",
       "  'title': 'How to clone or copy a list?',\n",
       "  'view_count': 1339399},\n",
       " {'accepted_answer_id': 240205,\n",
       "  'answer_count': 12,\n",
       "  'creation_date': 1225119442,\n",
       "  'is_answered': True,\n",
       "  'last_activity_date': 1555401401,\n",
       "  'last_edit_date': 1490199275,\n",
       "  'link': 'https://stackoverflow.com/questions/240178/list-of-lists-changes-reflected-across-sublists-unexpectedly',\n",
       "  'owner': {'accept_rate': 93,\n",
       "   'display_name': 'Charles Anderson',\n",
       "   'link': 'https://stackoverflow.com/users/11677/charles-anderson',\n",
       "   'profile_image': 'https://i.stack.imgur.com/XTgip.jpg?s=128&g=1',\n",
       "   'reputation': 7810,\n",
       "   'user_id': 11677,\n",
       "   'user_type': 'registered'},\n",
       "  'protected_date': 1461510895,\n",
       "  'question_id': 240178,\n",
       "  'score': 516,\n",
       "  'tags': ['python', 'list', 'nested-lists', 'mutable'],\n",
       "  'title': 'List of lists changes reflected across sublists unexpectedly',\n",
       "  'view_count': 23880},\n",
       " {'accepted_answer_id': 1373185,\n",
       "  'answer_count': 16,\n",
       "  'creation_date': 1251981468,\n",
       "  'is_answered': True,\n",
       "  'last_activity_date': 1558704153,\n",
       "  'last_edit_date': 1490199670,\n",
       "  'link': 'https://stackoverflow.com/questions/1373164/how-do-i-create-a-variable-number-of-variables',\n",
       "  'owner': {'display_name': 'Pyornide', 'user_type': 'does_not_exist'},\n",
       "  'protected_date': 1461250989,\n",
       "  'question_id': 1373164,\n",
       "  'score': 284,\n",
       "  'tags': ['python', 'variable-variables'],\n",
       "  'title': 'How do I create a variable number of variables?',\n",
       "  'view_count': 108843},\n",
       " {'accepted_answer_id': 20159305,\n",
       "  'answer_count': 5,\n",
       "  'closed_date': 1543091679,\n",
       "  'closed_reason': 'off-topic',\n",
       "  'creation_date': 1384990299,\n",
       "  'is_answered': True,\n",
       "  'last_activity_date': 1560199188,\n",
       "  'last_edit_date': 1495540498,\n",
       "  'link': 'https://stackoverflow.com/questions/20109391/how-to-make-good-reproducible-pandas-examples',\n",
       "  'locked_date': 1543143021,\n",
       "  'owner': {'accept_rate': 100,\n",
       "   'display_name': 'Marius',\n",
       "   'link': 'https://stackoverflow.com/users/1222578/marius',\n",
       "   'profile_image': 'https://www.gravatar.com/avatar/daae63146dbed42f50cd56f7268c6260?s=128&d=identicon&r=PG',\n",
       "   'reputation': 35166,\n",
       "   'user_id': 1222578,\n",
       "   'user_type': 'registered'},\n",
       "  'question_id': 20109391,\n",
       "  'score': 222,\n",
       "  'tags': ['python', 'pandas'],\n",
       "  'title': 'How to make good reproducible pandas examples',\n",
       "  'view_count': 13790},\n",
       " {'accepted_answer_id': 1207461,\n",
       "  'answer_count': 26,\n",
       "  'creation_date': 1248968202,\n",
       "  'is_answered': True,\n",
       "  'last_activity_date': 1559106160,\n",
       "  'last_edit_date': 1519827952,\n",
       "  'link': 'https://stackoverflow.com/questions/1207406/how-to-remove-items-from-a-list-while-iterating',\n",
       "  'owner': {'accept_rate': 86,\n",
       "   'display_name': 'lfaraone',\n",
       "   'link': 'https://stackoverflow.com/users/90777/lfaraone',\n",
       "   'profile_image': 'https://www.gravatar.com/avatar/43918f842a892d0deb9ef1d8dcc9fe49?s=128&d=identicon&r=PG',\n",
       "   'reputation': 18654,\n",
       "   'user_id': 90777,\n",
       "   'user_type': 'registered'},\n",
       "  'protected_date': 1542590828,\n",
       "  'question_id': 1207406,\n",
       "  'score': 849,\n",
       "  'tags': ['python', 'iteration'],\n",
       "  'title': 'How to remove items from a list while iterating?',\n",
       "  'view_count': 407059},\n",
       " {'accepted_answer_id': 952952,\n",
       "  'answer_count': 39,\n",
       "  'creation_date': 1244147405,\n",
       "  'is_answered': True,\n",
       "  'last_activity_date': 1560381402,\n",
       "  'last_edit_date': 1555067095,\n",
       "  'link': 'https://stackoverflow.com/questions/952914/how-to-make-a-flat-list-out-of-list-of-lists',\n",
       "  'owner': {'display_name': 'Emma',\n",
       "   'link': 'https://stackoverflow.com/users/110527/emma',\n",
       "   'profile_image': 'https://www.gravatar.com/avatar/1a3fec384503a3e0b33361f146006598?s=128&d=identicon&r=PG',\n",
       "   'reputation': 13434,\n",
       "   'user_id': 110527,\n",
       "   'user_type': 'registered'},\n",
       "  'protected_date': 1357910574,\n",
       "  'question_id': 952914,\n",
       "  'score': 2636,\n",
       "  'tags': ['python', 'list', 'multidimensional-array', 'flatten'],\n",
       "  'title': 'How to make a flat list out of list of lists',\n",
       "  'view_count': 1576586},\n",
       " {'accepted_answer_id': 312464,\n",
       "  'answer_count': 58,\n",
       "  'creation_date': 1227442552,\n",
       "  'is_answered': True,\n",
       "  'last_activity_date': 1558607748,\n",
       "  'last_edit_date': 1495540511,\n",
       "  'link': 'https://stackoverflow.com/questions/312443/how-do-you-split-a-list-into-evenly-sized-chunks',\n",
       "  'owner': {'display_name': 'jespern',\n",
       "   'link': 'https://stackoverflow.com/users/112415/jespern',\n",
       "   'profile_image': 'https://www.gravatar.com/avatar/b658715b9635ef057daf2a22d4a8f36e?s=128&d=identicon&r=PG',\n",
       "   'reputation': 11388,\n",
       "   'user_id': 112415,\n",
       "   'user_type': 'registered'},\n",
       "  'protected_date': 1377874772,\n",
       "  'question_id': 312443,\n",
       "  'score': 1926,\n",
       "  'tags': ['python', 'list', 'split', 'chunks'],\n",
       "  'title': 'How do you split a list into evenly sized chunks?',\n",
       "  'view_count': 759324},\n",
       " {'accepted_answer_id': 986145,\n",
       "  'answer_count': 26,\n",
       "  'creation_date': 1244802231,\n",
       "  'is_answered': True,\n",
       "  'last_activity_date': 1560399098,\n",
       "  'last_edit_date': 1490199401,\n",
       "  'link': 'https://stackoverflow.com/questions/986006/how-do-i-pass-a-variable-by-reference',\n",
       "  'owner': {'accept_rate': 97,\n",
       "   'display_name': 'David Sykes',\n",
       "   'link': 'https://stackoverflow.com/users/259/david-sykes',\n",
       "   'profile_image': 'https://www.gravatar.com/avatar/0c95a3798d9a008b6c29605b8f15b47a?s=128&d=identicon&r=PG',\n",
       "   'reputation': 20872,\n",
       "   'user_id': 259,\n",
       "   'user_type': 'registered'},\n",
       "  'protected_date': 1334875788,\n",
       "  'question_id': 986006,\n",
       "  'score': 2337,\n",
       "  'tags': ['python', 'reference', 'parameter-passing', 'pass-by-reference'],\n",
       "  'title': 'How do I pass a variable by reference?',\n",
       "  'view_count': 1140018},\n",
       " {'accepted_answer_id': 20449433,\n",
       "  'answer_count': 10,\n",
       "  'creation_date': 1386472095,\n",
       "  'is_answered': True,\n",
       "  'last_activity_date': 1558095613,\n",
       "  'last_edit_date': 1556413510,\n",
       "  'link': 'https://stackoverflow.com/questions/20449427/how-can-i-read-inputs-as-numbers',\n",
       "  'locked_date': 1558125821,\n",
       "  'owner': {'accept_rate': 87,\n",
       "   'display_name': 'Hosch250',\n",
       "   'link': 'https://stackoverflow.com/users/2509848/hosch250',\n",
       "   'profile_image': 'https://i.stack.imgur.com/teLIe.png?s=128&g=1',\n",
       "   'reputation': 2487,\n",
       "   'user_id': 2509848,\n",
       "   'user_type': 'registered'},\n",
       "  'protected_date': 1433040159,\n",
       "  'question_id': 20449427,\n",
       "  'score': 262,\n",
       "  'tags': ['python', 'python-3.x', 'python-2.7', 'input', 'int'],\n",
       "  'title': 'How can I read inputs as numbers?',\n",
       "  'view_count': 691579},\n",
       " {'accepted_answer_id': 47152692,\n",
       "  'answer_count': 1,\n",
       "  'creation_date': 1510041628,\n",
       "  'is_answered': True,\n",
       "  'last_activity_date': 1559960949,\n",
       "  'last_edit_date': 1559960918,\n",
       "  'link': 'https://stackoverflow.com/questions/47152691/how-to-pivot-a-dataframe',\n",
       "  'owner': {'accept_rate': 96,\n",
       "   'display_name': 'piRSquared',\n",
       "   'link': 'https://stackoverflow.com/users/2336654/pirsquared',\n",
       "   'profile_image': 'https://i.stack.imgur.com/8V2Hz.png?s=128&g=1',\n",
       "   'reputation': 167966,\n",
       "   'user_id': 2336654,\n",
       "   'user_type': 'registered'},\n",
       "  'question_id': 47152691,\n",
       "  'score': 250,\n",
       "  'tags': ['python', 'pandas', 'group-by', 'pivot', 'pandas-groupby'],\n",
       "  'title': 'How to pivot a dataframe',\n",
       "  'view_count': 12922},\n",
       " {'accepted_answer_id': 36908,\n",
       "  'answer_count': 18,\n",
       "  'creation_date': 1220195075,\n",
       "  'is_answered': True,\n",
       "  'last_activity_date': 1558359397,\n",
       "  'last_edit_date': 1553286619,\n",
       "  'link': 'https://stackoverflow.com/questions/36901/what-does-double-star-asterisk-and-star-asterisk-do-for-parameters',\n",
       "  'owner': {'display_name': 'Todd',\n",
       "   'link': 'https://stackoverflow.com/users/2572/todd',\n",
       "   'profile_image': 'https://www.gravatar.com/avatar/133b9402dcc48504a13732d459b7eaa8?s=128&d=identicon&r=PG',\n",
       "   'reputation': 11002,\n",
       "   'user_id': 2572,\n",
       "   'user_type': 'registered'},\n",
       "  'protected_date': 1485095604,\n",
       "  'question_id': 36901,\n",
       "  'score': 1974,\n",
       "  'tags': ['python',\n",
       "   'syntax',\n",
       "   'parameter-passing',\n",
       "   'variadic-functions',\n",
       "   'argument-unpacking'],\n",
       "  'title': 'What does ** (double star/asterisk) and * (star/asterisk) do for parameters?',\n",
       "  'view_count': 580129},\n",
       " {'accepted_answer_id': 423596,\n",
       "  'answer_count': 18,\n",
       "  'creation_date': 1231393502,\n",
       "  'is_answered': True,\n",
       "  'last_activity_date': 1558440531,\n",
       "  'last_edit_date': 1526813265,\n",
       "  'link': 'https://stackoverflow.com/questions/423379/using-global-variables-in-a-function',\n",
       "  'owner': {'accept_rate': 33,\n",
       "   'display_name': 'user46646',\n",
       "   'link': 'https://stackoverflow.com/users/46646/user46646',\n",
       "   'profile_image': 'https://www.gravatar.com/avatar/a1e278de9bdbf3ecd96d0d786fa97392?s=128&d=identicon&r=PG',\n",
       "   'reputation': 52117,\n",
       "   'user_id': 46646,\n",
       "   'user_type': 'registered'},\n",
       "  'protected_date': 1458291640,\n",
       "  'question_id': 423379,\n",
       "  'score': 2811,\n",
       "  'tags': ['python', 'global-variables', 'scope'],\n",
       "  'title': 'Using global variables in a function',\n",
       "  'view_count': 2953590},\n",
       " {'accepted_answer_id': 292502,\n",
       "  'answer_count': 8,\n",
       "  'creation_date': 1226713717,\n",
       "  'is_answered': True,\n",
       "  'last_activity_date': 1557700063,\n",
       "  'last_edit_date': 1548323635,\n",
       "  'link': 'https://stackoverflow.com/questions/291978/short-description-of-the-scoping-rules',\n",
       "  'owner': {'accept_rate': 67,\n",
       "   'display_name': 'Charles Merriam',\n",
       "   'link': 'https://stackoverflow.com/users/1320510/charles-merriam',\n",
       "   'profile_image': 'https://www.gravatar.com/avatar/2c437d3c8dac4ec473243d7f15ca4a8c?s=128&d=identicon&r=PG',\n",
       "   'reputation': 11795,\n",
       "   'user_id': 1320510,\n",
       "   'user_type': 'registered'},\n",
       "  'question_id': 291978,\n",
       "  'score': 438,\n",
       "  'tags': ['python', 'scope', 'dynamic-languages'],\n",
       "  'title': 'Short description of the scoping rules?',\n",
       "  'view_count': 229694},\n",
       " {'accepted_answer_id': 89243,\n",
       "  'answer_count': 56,\n",
       "  'creation_date': 1221701730,\n",
       "  'is_answered': True,\n",
       "  'last_activity_date': 1556449022,\n",
       "  'last_edit_date': 1556074428,\n",
       "  'link': 'https://stackoverflow.com/questions/89228/calling-an-external-command-in-python',\n",
       "  'owner': {'accept_rate': 89,\n",
       "   'display_name': 'freshWoWer',\n",
       "   'link': 'https://stackoverflow.com/users/17085/freshwower',\n",
       "   'profile_image': 'https://www.gravatar.com/avatar/d386a6f2f3dda7bcf7f1e11c2171946b?s=128&d=identicon&r=PG',\n",
       "   'reputation': 22184,\n",
       "   'user_id': 17085,\n",
       "   'user_type': 'registered'},\n",
       "  'protected_date': 1366143800,\n",
       "  'question_id': 89228,\n",
       "  'score': 4282,\n",
       "  'tags': ['python', 'shell', 'command', 'subprocess', 'external'],\n",
       "  'title': 'Calling an external command in Python',\n",
       "  'view_count': 3061312},\n",
       " {'accepted_answer_id': 231855,\n",
       "  'answer_count': 38,\n",
       "  'creation_date': 1224800471,\n",
       "  'is_answered': True,\n",
       "  'last_activity_date': 1559822906,\n",
       "  'last_edit_date': 1556825757,\n",
       "  'link': 'https://stackoverflow.com/questions/231767/what-does-the-yield-keyword-do',\n",
       "  'owner': {'accept_rate': 92,\n",
       "   'display_name': 'Alex. S.',\n",
       "   'link': 'https://stackoverflow.com/users/18300/alex-s',\n",
       "   'profile_image': 'https://i.stack.imgur.com/jcyI4.jpg?s=128&g=1',\n",
       "   'reputation': 53606,\n",
       "   'user_id': 18300,\n",
       "   'user_type': 'registered'},\n",
       "  'protected_date': 1360547307,\n",
       "  'question_id': 231767,\n",
       "  'score': 9283,\n",
       "  'tags': ['python', 'iterator', 'generator', 'yield', 'coroutine'],\n",
       "  'title': 'What does the &quot;yield&quot; keyword do?',\n",
       "  'view_count': 2021035},\n",
       " {'accepted_answer_id': 53645883,\n",
       "  'answer_count': 2,\n",
       "  'creation_date': 1544078475,\n",
       "  'is_answered': True,\n",
       "  'last_activity_date': 1560402009,\n",
       "  'last_edit_date': 1557403841,\n",
       "  'link': 'https://stackoverflow.com/questions/53645882/pandas-merging-101',\n",
       "  'owner': {'accept_rate': 97,\n",
       "   'display_name': 'cs95',\n",
       "   'link': 'https://stackoverflow.com/users/4909087/cs95',\n",
       "   'profile_image': 'https://i.stack.imgur.com/qKJ0Q.png?s=128&g=1',\n",
       "   'reputation': 152840,\n",
       "   'user_id': 4909087,\n",
       "   'user_type': 'registered'},\n",
       "  'question_id': 53645882,\n",
       "  'score': 186,\n",
       "  'tags': ['python', 'pandas', 'join', 'merge'],\n",
       "  'title': 'Pandas Merging 101',\n",
       "  'view_count': 16795},\n",
       " {'accepted_answer_id': 419185,\n",
       "  'answer_count': 28,\n",
       "  'creation_date': 1231301460,\n",
       "  'is_answered': True,\n",
       "  'last_activity_date': 1560331719,\n",
       "  'last_edit_date': 1527240608,\n",
       "  'link': 'https://stackoverflow.com/questions/419163/what-does-if-name-main-do',\n",
       "  'owner': {'accept_rate': 86,\n",
       "   'display_name': 'Devoted',\n",
       "   'link': 'https://stackoverflow.com/users/51518/devoted',\n",
       "   'profile_image': 'https://www.gravatar.com/avatar/eb5a95cb1be342c4089183cd8232a7f2?s=128&d=identicon&r=PG',\n",
       "   'reputation': 35615,\n",
       "   'user_id': 51518,\n",
       "   'user_type': 'registered'},\n",
       "  'protected_date': 1365246276,\n",
       "  'question_id': 419163,\n",
       "  'score': 5077,\n",
       "  'tags': ['python', 'namespaces', 'main', 'python-module', 'idioms'],\n",
       "  'title': 'What does if __name__ == &quot;__main__&quot;: do?',\n",
       "  'view_count': 2305119},\n",
       " {'accepted_answer_id': 613218,\n",
       "  'answer_count': 34,\n",
       "  'creation_date': 1236214145,\n",
       "  'is_answered': True,\n",
       "  'last_activity_date': 1558109826,\n",
       "  'last_edit_date': 1553122251,\n",
       "  'link': 'https://stackoverflow.com/questions/613183/how-do-i-sort-a-dictionary-by-value',\n",
       "  'locked_date': 1558119917,\n",
       "  'owner': {'accept_rate': 49,\n",
       "   'display_name': 'Gern Blanston',\n",
       "   'link': 'https://stackoverflow.com/users/2786/gern-blanston',\n",
       "   'profile_image': 'https://www.gravatar.com/avatar/a82355039ccbe7d12a8ffee222dc225d?s=128&d=identicon&r=PG',\n",
       "   'reputation': 20669,\n",
       "   'user_id': 2786,\n",
       "   'user_type': 'registered'},\n",
       "  'protected_date': 1340465478,\n",
       "  'question_id': 613183,\n",
       "  'score': 3428,\n",
       "  'tags': ['python', 'sorting', 'dictionary'],\n",
       "  'title': 'How do I sort a dictionary by value?',\n",
       "  'view_count': 2239980},\n",
       " {'accepted_answer_id': 2158532,\n",
       "  'answer_count': 41,\n",
       "  'creation_date': 1264716942,\n",
       "  'is_answered': True,\n",
       "  'last_activity_date': 1558618990,\n",
       "  'last_edit_date': 1524599418,\n",
       "  'link': 'https://stackoverflow.com/questions/2158395/flatten-an-irregular-list-of-lists',\n",
       "  'owner': {'accept_rate': 97,\n",
       "   'display_name': 'telliott99',\n",
       "   'link': 'https://stackoverflow.com/users/215679/telliott99',\n",
       "   'profile_image': 'https://www.gravatar.com/avatar/d43671b8e7d205239683eab7ac23f6d8?s=128&d=identicon&r=PG',\n",
       "   'reputation': 3343,\n",
       "   'user_id': 215679,\n",
       "   'user_type': 'registered'},\n",
       "  'protected_date': 1377946657,\n",
       "  'question_id': 2158395,\n",
       "  'score': 394,\n",
       "  'tags': ['python', 'list', 'optimization', 'flatten'],\n",
       "  'title': 'Flatten an irregular list of lists',\n",
       "  'view_count': 110426},\n",
       " {'answer_count': 7,\n",
       "  'creation_date': 1303595979,\n",
       "  'is_answered': True,\n",
       "  'last_activity_date': 1558449404,\n",
       "  'last_edit_date': 1442844993,\n",
       "  'link': 'https://stackoverflow.com/questions/5767228/why-is-button-parameter-command-executed-when-declared',\n",
       "  'owner': {'display_name': 'salk',\n",
       "   'link': 'https://stackoverflow.com/users/721481/salk',\n",
       "   'profile_image': 'https://www.gravatar.com/avatar/16dd6e960a774ed518dbf47b0eb491ef?s=128&d=identicon&r=PG',\n",
       "   'reputation': 291,\n",
       "   'user_id': 721481,\n",
       "   'user_type': 'unregistered'},\n",
       "  'question_id': 5767228,\n",
       "  'score': 57,\n",
       "  'tags': ['python', 'tkinter'],\n",
       "  'title': 'Why is Button parameter “command” executed when declared?',\n",
       "  'view_count': 17633},\n",
       " {'accepted_answer_id': 306353,\n",
       "  'answer_count': 10,\n",
       "  'creation_date': 1227205276,\n",
       "  'is_answered': True,\n",
       "  'last_activity_date': 1546563674,\n",
       "  'last_edit_date': 1453558310,\n",
       "  'link': 'https://stackoverflow.com/questions/306313/is-operator-behaves-unexpectedly-with-integers',\n",
       "  'owner': {'accept_rate': 84,\n",
       "   'display_name': 'Greg Hewgill',\n",
       "   'link': 'https://stackoverflow.com/users/893/greg-hewgill',\n",
       "   'profile_image': 'https://www.gravatar.com/avatar/747ffa5da3538e66840ebc0548b8fd58?s=128&d=identicon&r=PG',\n",
       "   'reputation': 694004,\n",
       "   'user_id': 893,\n",
       "   'user_type': 'registered'},\n",
       "  'protected_date': 1369678868,\n",
       "  'question_id': 306313,\n",
       "  'score': 448,\n",
       "  'tags': ['python', 'int', 'comparison', 'operators', 'identity'],\n",
       "  'title': '&quot;is&quot; operator behaves unexpectedly with integers',\n",
       "  'view_count': 54220},\n",
       " {'accepted_answer_id': 394814,\n",
       "  'answer_count': 21,\n",
       "  'community_owned_date': 1358001430,\n",
       "  'creation_date': 1230366738,\n",
       "  'is_answered': True,\n",
       "  'last_activity_date': 1558175217,\n",
       "  'last_edit_date': 1553351053,\n",
       "  'link': 'https://stackoverflow.com/questions/394809/does-python-have-a-ternary-conditional-operator',\n",
       "  'owner': {'accept_rate': 86,\n",
       "   'display_name': 'Devoted',\n",
       "   'link': 'https://stackoverflow.com/users/51518/devoted',\n",
       "   'profile_image': 'https://www.gravatar.com/avatar/eb5a95cb1be342c4089183cd8232a7f2?s=128&d=identicon&r=PG',\n",
       "   'reputation': 35615,\n",
       "   'user_id': 51518,\n",
       "   'user_type': 'registered'},\n",
       "  'protected_date': 1370841342,\n",
       "  'question_id': 394809,\n",
       "  'score': 5250,\n",
       "  'tags': ['python',\n",
       "   'operators',\n",
       "   'ternary-operator',\n",
       "   'conditional-operator',\n",
       "   'python-2.5'],\n",
       "  'title': 'Does Python have a ternary conditional operator?',\n",
       "  'view_count': 1691072},\n",
       " {'accepted_answer_id': 20627316,\n",
       "  'answer_count': 13,\n",
       "  'creation_date': 1387252082,\n",
       "  'is_answered': True,\n",
       "  'last_activity_date': 1560009844,\n",
       "  'last_edit_date': 1512144957,\n",
       "  'link': 'https://stackoverflow.com/questions/20625582/how-to-deal-with-settingwithcopywarning-in-pandas',\n",
       "  'owner': {'accept_rate': 86,\n",
       "   'display_name': 'bigbug',\n",
       "   'link': 'https://stackoverflow.com/users/1072888/bigbug',\n",
       "   'profile_image': 'https://i.stack.imgur.com/kDaUu.jpg?s=128&g=1',\n",
       "   'reputation': 12765,\n",
       "   'user_id': 1072888,\n",
       "   'user_type': 'registered'},\n",
       "  'protected_date': 1524131227,\n",
       "  'question_id': 20625582,\n",
       "  'score': 453,\n",
       "  'tags': ['python', 'pandas', 'dataframe', 'chained-assignment'],\n",
       "  'title': 'How to deal with SettingWithCopyWarning in Pandas?',\n",
       "  'view_count': 479407},\n",
       " {'accepted_answer_id': 100146,\n",
       "  'answer_count': 15,\n",
       "  'creation_date': 1221804646,\n",
       "  'is_answered': True,\n",
       "  'last_activity_date': 1557734144,\n",
       "  'last_edit_date': 1515712711,\n",
       "  'link': 'https://stackoverflow.com/questions/100003/what-are-metaclasses-in-python',\n",
       "  'owner': {'accept_rate': 78,\n",
       "   'display_name': 'e-satis',\n",
       "   'link': 'https://stackoverflow.com/users/9951/e-satis',\n",
       "   'profile_image': 'https://www.gravatar.com/avatar/1449ec95d8c114dbca53136cc8194b61?s=128&d=identicon&r=PG&f=1',\n",
       "   'reputation': 368828,\n",
       "   'user_id': 9951,\n",
       "   'user_type': 'registered'},\n",
       "  'protected_date': 1350585760,\n",
       "  'question_id': 100003,\n",
       "  'score': 5164,\n",
       "  'tags': ['python', 'oop', 'metaclass', 'python-datamodel'],\n",
       "  'title': 'What are metaclasses in Python?',\n",
       "  'view_count': 704957},\n",
       " {'accepted_answer_id': 1680555,\n",
       "  'answer_count': 8,\n",
       "  'creation_date': 1257427195,\n",
       "  'is_answered': True,\n",
       "  'last_activity_date': 1550230475,\n",
       "  'last_edit_date': 1522509746,\n",
       "  'link': 'https://stackoverflow.com/questions/1680528/how-to-avoid-having-class-data-shared-among-instances',\n",
       "  'owner': {'accept_rate': 62,\n",
       "   'display_name': '8steve8',\n",
       "   'link': 'https://stackoverflow.com/users/150564/8steve8',\n",
       "   'profile_image': 'https://www.gravatar.com/avatar/0b27e0735cdb87222f2342f5f97875a5?s=128&d=identicon&r=PG',\n",
       "   'reputation': 878,\n",
       "   'user_id': 150564,\n",
       "   'user_type': 'registered'},\n",
       "  'question_id': 1680528,\n",
       "  'score': 125,\n",
       "  'tags': ['python', 'class'],\n",
       "  'title': 'How to avoid having class data shared among instances?',\n",
       "  'view_count': 21536},\n",
       " {'accepted_answer_id': 2709832,\n",
       "  'answer_count': 20,\n",
       "  'creation_date': 1272226948,\n",
       "  'is_answered': True,\n",
       "  'last_activity_date': 1558774404,\n",
       "  'last_edit_date': 1516240065,\n",
       "  'link': 'https://stackoverflow.com/questions/2709821/what-is-the-purpose-of-self',\n",
       "  'owner': {'accept_rate': 62,\n",
       "   'display_name': 'richzilla',\n",
       "   'link': 'https://stackoverflow.com/users/301032/richzilla',\n",
       "   'profile_image': 'https://www.gravatar.com/avatar/06b3210955831102992eb6b1d0a0e612?s=128&d=identicon&r=PG',\n",
       "   'reputation': 14081,\n",
       "   'user_id': 301032,\n",
       "   'user_type': 'registered'},\n",
       "  'protected_date': 1366705572,\n",
       "  'question_id': 2709821,\n",
       "  'score': 1004,\n",
       "  'tags': ['python', 'class', 'oop', 'self'],\n",
       "  'title': 'What is the purpose of self?',\n",
       "  'view_count': 763653}]"
      ]
     },
     "execution_count": 8,
     "metadata": {},
     "output_type": "execute_result"
    }
   ],
   "source": [
    "questions['items']"
   ]
  },
  {
   "cell_type": "code",
   "execution_count": 9,
   "metadata": {},
   "outputs": [
    {
     "data": {
      "text/plain": [
       "['python', 'if-statement', 'comparison', 'match', 'boolean-logic']"
      ]
     },
     "execution_count": 9,
     "metadata": {},
     "output_type": "execute_result"
    }
   ],
   "source": [
    "questions['items'][0]['tags']"
   ]
  },
  {
   "cell_type": "code",
   "execution_count": 10,
   "metadata": {},
   "outputs": [
    {
     "data": {
      "text/plain": [
       "['python', 'list', 'slice', 'iterable']"
      ]
     },
     "execution_count": 10,
     "metadata": {},
     "output_type": "execute_result"
    }
   ],
   "source": [
    "questions['items'][1]['tags']"
   ]
  },
  {
   "cell_type": "code",
   "execution_count": 11,
   "metadata": {},
   "outputs": [
    {
     "data": {
      "text/plain": [
       "30"
      ]
     },
     "execution_count": 11,
     "metadata": {},
     "output_type": "execute_result"
    }
   ],
   "source": [
    "len(questions['items'])"
   ]
  },
  {
   "cell_type": "code",
   "execution_count": 12,
   "metadata": {},
   "outputs": [
    {
     "name": "stdout",
     "output_type": "stream",
     "text": [
      "['python', 'if-statement', 'comparison', 'match', 'boolean-logic'] ---> https://stackoverflow.com/questions/15112125/how-to-test-multiple-variables-against-a-value  views-> 163194  q-id => 15112125  title => How to test multiple variables against a value?\n",
      "\n",
      "\n",
      "['python', 'list', 'slice', 'iterable'] ---> https://stackoverflow.com/questions/509211/understanding-slice-notation  views-> 1453268  q-id => 509211  title => Understanding slice notation\n",
      "\n",
      "\n",
      "['python', 'language-design', 'default-parameters', 'least-astonishment'] ---> https://stackoverflow.com/questions/1132941/least-astonishment-and-the-mutable-default-argument  views-> 133393  q-id => 1132941  title => &quot;Least Astonishment&quot; and the Mutable Default Argument\n",
      "\n",
      "\n",
      "['python', 'validation', 'loops', 'python-3.x', 'user-input'] ---> https://stackoverflow.com/questions/23294658/asking-the-user-for-input-until-they-give-a-valid-response  views-> 351171  q-id => 23294658  title => Asking the user for input until they give a valid response\n",
      "\n",
      "\n",
      "['python', 'list', 'copy', 'clone'] ---> https://stackoverflow.com/questions/2612802/how-to-clone-or-copy-a-list  views-> 1339399  q-id => 2612802  title => How to clone or copy a list?\n",
      "\n",
      "\n",
      "['python', 'list', 'nested-lists', 'mutable'] ---> https://stackoverflow.com/questions/240178/list-of-lists-changes-reflected-across-sublists-unexpectedly  views-> 23880  q-id => 240178  title => List of lists changes reflected across sublists unexpectedly\n",
      "\n",
      "\n",
      "['python', 'variable-variables'] ---> https://stackoverflow.com/questions/1373164/how-do-i-create-a-variable-number-of-variables  views-> 108843  q-id => 1373164  title => How do I create a variable number of variables?\n",
      "\n",
      "\n",
      "['python', 'pandas'] ---> https://stackoverflow.com/questions/20109391/how-to-make-good-reproducible-pandas-examples  views-> 13790  q-id => 20109391  title => How to make good reproducible pandas examples\n",
      "\n",
      "\n",
      "['python', 'iteration'] ---> https://stackoverflow.com/questions/1207406/how-to-remove-items-from-a-list-while-iterating  views-> 407059  q-id => 1207406  title => How to remove items from a list while iterating?\n",
      "\n",
      "\n",
      "['python', 'list', 'multidimensional-array', 'flatten'] ---> https://stackoverflow.com/questions/952914/how-to-make-a-flat-list-out-of-list-of-lists  views-> 1576586  q-id => 952914  title => How to make a flat list out of list of lists\n",
      "\n",
      "\n",
      "['python', 'list', 'split', 'chunks'] ---> https://stackoverflow.com/questions/312443/how-do-you-split-a-list-into-evenly-sized-chunks  views-> 759324  q-id => 312443  title => How do you split a list into evenly sized chunks?\n",
      "\n",
      "\n",
      "['python', 'reference', 'parameter-passing', 'pass-by-reference'] ---> https://stackoverflow.com/questions/986006/how-do-i-pass-a-variable-by-reference  views-> 1140018  q-id => 986006  title => How do I pass a variable by reference?\n",
      "\n",
      "\n",
      "['python', 'python-3.x', 'python-2.7', 'input', 'int'] ---> https://stackoverflow.com/questions/20449427/how-can-i-read-inputs-as-numbers  views-> 691579  q-id => 20449427  title => How can I read inputs as numbers?\n",
      "\n",
      "\n",
      "['python', 'pandas', 'group-by', 'pivot', 'pandas-groupby'] ---> https://stackoverflow.com/questions/47152691/how-to-pivot-a-dataframe  views-> 12922  q-id => 47152691  title => How to pivot a dataframe\n",
      "\n",
      "\n",
      "['python', 'syntax', 'parameter-passing', 'variadic-functions', 'argument-unpacking'] ---> https://stackoverflow.com/questions/36901/what-does-double-star-asterisk-and-star-asterisk-do-for-parameters  views-> 580129  q-id => 36901  title => What does ** (double star/asterisk) and * (star/asterisk) do for parameters?\n",
      "\n",
      "\n",
      "['python', 'global-variables', 'scope'] ---> https://stackoverflow.com/questions/423379/using-global-variables-in-a-function  views-> 2953590  q-id => 423379  title => Using global variables in a function\n",
      "\n",
      "\n",
      "['python', 'scope', 'dynamic-languages'] ---> https://stackoverflow.com/questions/291978/short-description-of-the-scoping-rules  views-> 229694  q-id => 291978  title => Short description of the scoping rules?\n",
      "\n",
      "\n",
      "['python', 'shell', 'command', 'subprocess', 'external'] ---> https://stackoverflow.com/questions/89228/calling-an-external-command-in-python  views-> 3061312  q-id => 89228  title => Calling an external command in Python\n",
      "\n",
      "\n",
      "['python', 'iterator', 'generator', 'yield', 'coroutine'] ---> https://stackoverflow.com/questions/231767/what-does-the-yield-keyword-do  views-> 2021035  q-id => 231767  title => What does the &quot;yield&quot; keyword do?\n",
      "\n",
      "\n",
      "['python', 'pandas', 'join', 'merge'] ---> https://stackoverflow.com/questions/53645882/pandas-merging-101  views-> 16795  q-id => 53645882  title => Pandas Merging 101\n",
      "\n",
      "\n",
      "['python', 'namespaces', 'main', 'python-module', 'idioms'] ---> https://stackoverflow.com/questions/419163/what-does-if-name-main-do  views-> 2305119  q-id => 419163  title => What does if __name__ == &quot;__main__&quot;: do?\n",
      "\n",
      "\n",
      "['python', 'sorting', 'dictionary'] ---> https://stackoverflow.com/questions/613183/how-do-i-sort-a-dictionary-by-value  views-> 2239980  q-id => 613183  title => How do I sort a dictionary by value?\n",
      "\n",
      "\n",
      "['python', 'list', 'optimization', 'flatten'] ---> https://stackoverflow.com/questions/2158395/flatten-an-irregular-list-of-lists  views-> 110426  q-id => 2158395  title => Flatten an irregular list of lists\n",
      "\n",
      "\n",
      "['python', 'tkinter'] ---> https://stackoverflow.com/questions/5767228/why-is-button-parameter-command-executed-when-declared  views-> 17633  q-id => 5767228  title => Why is Button parameter “command” executed when declared?\n",
      "\n",
      "\n",
      "['python', 'int', 'comparison', 'operators', 'identity'] ---> https://stackoverflow.com/questions/306313/is-operator-behaves-unexpectedly-with-integers  views-> 54220  q-id => 306313  title => &quot;is&quot; operator behaves unexpectedly with integers\n",
      "\n",
      "\n",
      "['python', 'operators', 'ternary-operator', 'conditional-operator', 'python-2.5'] ---> https://stackoverflow.com/questions/394809/does-python-have-a-ternary-conditional-operator  views-> 1691072  q-id => 394809  title => Does Python have a ternary conditional operator?\n",
      "\n",
      "\n",
      "['python', 'pandas', 'dataframe', 'chained-assignment'] ---> https://stackoverflow.com/questions/20625582/how-to-deal-with-settingwithcopywarning-in-pandas  views-> 479407  q-id => 20625582  title => How to deal with SettingWithCopyWarning in Pandas?\n",
      "\n",
      "\n",
      "['python', 'oop', 'metaclass', 'python-datamodel'] ---> https://stackoverflow.com/questions/100003/what-are-metaclasses-in-python  views-> 704957  q-id => 100003  title => What are metaclasses in Python?\n",
      "\n",
      "\n",
      "['python', 'class'] ---> https://stackoverflow.com/questions/1680528/how-to-avoid-having-class-data-shared-among-instances  views-> 21536  q-id => 1680528  title => How to avoid having class data shared among instances?\n",
      "\n",
      "\n",
      "['python', 'class', 'oop', 'self'] ---> https://stackoverflow.com/questions/2709821/what-is-the-purpose-of-self  views-> 763653  q-id => 2709821  title => What is the purpose of self?\n",
      "\n",
      "\n"
     ]
    }
   ],
   "source": [
    "for i in range(len(questions['items'])):\n",
    "    print(questions['items'][i]['tags'],\"--->\",questions['items'][i]['link'],\" views->\",questions\n",
    "         ['items'][i]['view_count'],\" q-id =>\",questions['items'][i]['question_id'],\" title =>\",questions\n",
    "         ['items'][i]['title'])\n",
    "    print(\"\\n\")"
   ]
  },
  {
   "cell_type": "markdown",
   "metadata": {},
   "source": [
    "## Let's use spark context to create a spark dataframe with it's parallelize function.\n",
    "\n",
    "### 1.SparkContext is the entry point to any spark functionality\n",
    "### 2.By default, PySpark has SparkContext available as ‘sc’, so creating a new SparkContext won't work.\n",
    "### 3.SparkContext uses Py4J to launch a JVM and creates a JavaSparkContext.\n"
   ]
  },
  {
   "cell_type": "code",
   "execution_count": 13,
   "metadata": {},
   "outputs": [
    {
     "name": "stderr",
     "output_type": "stream",
     "text": [
      "E:\\my_work\\internship\\In_time_tec\\spark-2.4.3-bin-hadoop2.7\\spark-2.4.3-bin-hadoop2.7\\python\\pyspark\\sql\\session.py:366: UserWarning: Using RDD of dict to inferSchema is deprecated. Use pyspark.sql.Row instead\n",
      "  warnings.warn(\"Using RDD of dict to inferSchema is deprecated. \"\n"
     ]
    }
   ],
   "source": [
    "spark_df = sc.parallelize(questions['items']).toDF()"
   ]
  },
  {
   "cell_type": "code",
   "execution_count": 14,
   "metadata": {},
   "outputs": [
    {
     "name": "stdout",
     "output_type": "stream",
     "text": [
      "<class 'pyspark.sql.dataframe.DataFrame'>\n",
      "\n",
      "\n",
      "[Row(accepted_answer_id=15112149, answer_count=21, creation_date=1361967983, is_answered=True, last_activity_date=1557221420, last_edit_date=1549270529, link='https://stackoverflow.com/questions/15112125/how-to-test-multiple-variables-against-a-value', owner={'link': None, 'reputation': 2901, 'profile_image': None, 'user_type': None, 'display_name': None, 'user_id': 1877442}, protected_date=1425777531, question_id=15112125, score=553, tags=['python', 'if-statement', 'comparison', 'match', 'boolean-logic'], title='How to test multiple variables against a value?', view_count=163194)]\n",
      "\n",
      "\n",
      "root\n",
      " |-- accepted_answer_id: long (nullable = true)\n",
      " |-- answer_count: long (nullable = true)\n",
      " |-- creation_date: long (nullable = true)\n",
      " |-- is_answered: boolean (nullable = true)\n",
      " |-- last_activity_date: long (nullable = true)\n",
      " |-- last_edit_date: long (nullable = true)\n",
      " |-- link: string (nullable = true)\n",
      " |-- owner: map (nullable = true)\n",
      " |    |-- key: string\n",
      " |    |-- value: long (valueContainsNull = true)\n",
      " |-- protected_date: long (nullable = true)\n",
      " |-- question_id: long (nullable = true)\n",
      " |-- score: long (nullable = true)\n",
      " |-- tags: array (nullable = true)\n",
      " |    |-- element: string (containsNull = true)\n",
      " |-- title: string (nullable = true)\n",
      " |-- view_count: long (nullable = true)\n",
      "\n"
     ]
    }
   ],
   "source": [
    "print(type(spark_df))\n",
    "print(\"\\n\")\n",
    "print(spark_df.head(1))\n",
    "print(\"\\n\")\n",
    "spark_df.printSchema()"
   ]
  },
  {
   "cell_type": "code",
   "execution_count": 15,
   "metadata": {},
   "outputs": [
    {
     "name": "stdout",
     "output_type": "stream",
     "text": [
      "+-------+--------------------+------------------+--------------------+--------------------+-------------------+--------------------+-------------------+-------------------+-----------------+--------------------+-----------------+\n",
      "|summary|  accepted_answer_id|      answer_count|       creation_date|  last_activity_date|     last_edit_date|                link|     protected_date|        question_id|            score|               title|       view_count|\n",
      "+-------+--------------------+------------------+--------------------+--------------------+-------------------+--------------------+-------------------+-------------------+-----------------+--------------------+-----------------+\n",
      "|  count|                  29|                30|                  30|                  30|                 30|                  30|                 24|                 30|               30|                  30|               30|\n",
      "|   mean|   7559947.551724138|              21.5|1.2845876959333334E9|1.5580530492333333E9|     1.5257978854E9|                null|      1.402348623E9|          7497983.9|           1931.4|                null|847499.4666666667|\n",
      "| stddev|1.4008481858583722E7|14.547780965992123| 8.699207044875252E7|    2951572.35642296|3.267765730195867E7|                null|6.009155423518582E7|1.376732406204559E7|2146.374193683465|                null|921595.9027963107|\n",
      "|    min|               36908|                 1|          1220195075|          1546563674|         1442844993|https://stackover...|         1326471202|              36901|               57|&quot;Least Aston...|            12922|\n",
      "|    max|            53645883|                58|          1544078475|          1560487860|         1559960918|https://stackover...|         1542590828|           53645882|             9283|Why is Button par...|          3061312|\n",
      "+-------+--------------------+------------------+--------------------+--------------------+-------------------+--------------------+-------------------+-------------------+-----------------+--------------------+-----------------+\n",
      "\n"
     ]
    }
   ],
   "source": [
    "spark_df.describe().show()"
   ]
  },
  {
   "cell_type": "markdown",
   "metadata": {},
   "source": [
    "## Let's remove unnecessary columns"
   ]
  },
  {
   "cell_type": "code",
   "execution_count": 16,
   "metadata": {},
   "outputs": [
    {
     "name": "stdout",
     "output_type": "stream",
     "text": [
      "['accepted_answer_id', 'answer_count', 'creation_date', 'is_answered', 'last_activity_date', 'last_edit_date', 'link', 'owner', 'protected_date', 'question_id', 'score', 'tags', 'title', 'view_count']\n"
     ]
    }
   ],
   "source": [
    "droplist = spark_df.columns\n",
    "print(droplist)"
   ]
  },
  {
   "cell_type": "code",
   "execution_count": 17,
   "metadata": {},
   "outputs": [
    {
     "name": "stdout",
     "output_type": "stream",
     "text": [
      "['answer_count', 'creation_date', 'is_answered', 'last_activity_date', 'last_edit_date', 'owner', 'protected_date', 'score']\n"
     ]
    }
   ],
   "source": [
    "keeplist = ['title','tags','question_id','accepted_answer_id','view_count','link']\n",
    "for i in keeplist:\n",
    "    droplist.remove(i)\n",
    "print(droplist)"
   ]
  },
  {
   "cell_type": "code",
   "execution_count": 18,
   "metadata": {},
   "outputs": [],
   "source": [
    "spark_df2 = spark_df.drop(*droplist)"
   ]
  },
  {
   "cell_type": "code",
   "execution_count": 19,
   "metadata": {},
   "outputs": [
    {
     "name": "stdout",
     "output_type": "stream",
     "text": [
      "+------------------+--------------------+-----------+--------------------+--------------------+----------+\n",
      "|accepted_answer_id|                link|question_id|                tags|               title|view_count|\n",
      "+------------------+--------------------+-----------+--------------------+--------------------+----------+\n",
      "|          15112149|https://stackover...|   15112125|[python, if-state...|How to test multi...|    163194|\n",
      "|            509295|https://stackover...|     509211|[python, list, sl...|Understanding sli...|   1453268|\n",
      "|           1145781|https://stackover...|    1132941|[python, language...|&quot;Least Aston...|    133393|\n",
      "|          23294659|https://stackover...|   23294658|[python, validati...|Asking the user f...|    351171|\n",
      "|           2612815|https://stackover...|    2612802|[python, list, co...|How to clone or c...|   1339399|\n",
      "|            240205|https://stackover...|     240178|[python, list, ne...|List of lists cha...|     23880|\n",
      "|           1373185|https://stackover...|    1373164|[python, variable...|How do I create a...|    108843|\n",
      "|          20159305|https://stackover...|   20109391|    [python, pandas]|How to make good ...|     13790|\n",
      "|           1207461|https://stackover...|    1207406| [python, iteration]|How to remove ite...|    407059|\n",
      "|            952952|https://stackover...|     952914|[python, list, mu...|How to make a fla...|   1576586|\n",
      "|            312464|https://stackover...|     312443|[python, list, sp...|How do you split ...|    759324|\n",
      "|            986145|https://stackover...|     986006|[python, referenc...|How do I pass a v...|   1140018|\n",
      "|          20449433|https://stackover...|   20449427|[python, python-3...|How can I read in...|    691579|\n",
      "|          47152692|https://stackover...|   47152691|[python, pandas, ...|How to pivot a da...|     12922|\n",
      "|             36908|https://stackover...|      36901|[python, syntax, ...|What does ** (dou...|    580129|\n",
      "|            423596|https://stackover...|     423379|[python, global-v...|Using global vari...|   2953590|\n",
      "|            292502|https://stackover...|     291978|[python, scope, d...|Short description...|    229694|\n",
      "|             89243|https://stackover...|      89228|[python, shell, c...|Calling an extern...|   3061312|\n",
      "|            231855|https://stackover...|     231767|[python, iterator...|What does the &qu...|   2021035|\n",
      "|          53645883|https://stackover...|   53645882|[python, pandas, ...|  Pandas Merging 101|     16795|\n",
      "+------------------+--------------------+-----------+--------------------+--------------------+----------+\n",
      "only showing top 20 rows\n",
      "\n"
     ]
    }
   ],
   "source": [
    "spark_df2.show()"
   ]
  },
  {
   "cell_type": "markdown",
   "metadata": {},
   "source": [
    "# Let's use the qestion id to see different answers related to that."
   ]
  },
  {
   "cell_type": "code",
   "execution_count": 6,
   "metadata": {},
   "outputs": [
    {
     "name": "stdout",
     "output_type": "stream",
     "text": [
      "questin_id ?89228\n",
      "https://api.stackexchange.com//2.2/questions/89228/answers?order=desc&sort=votes&filter=withbody&site=stackoverflow\n"
     ]
    }
   ],
   "source": [
    "q_id = input(\"questin_id ?\")\n",
    "url = \"https://api.stackexchange.com//2.2/questions/\"+q_id+\"/answers?order=desc&sort=votes&filter=withbody&site=stackoverflow\"\n",
    "print(url)"
   ]
  },
  {
   "cell_type": "code",
   "execution_count": 7,
   "metadata": {},
   "outputs": [],
   "source": [
    "import requests\n",
    "ans = requests.get(url)\n",
    "ans = ans.json()\n",
    "ans = ans['items']\n",
    "import json\n",
    "with open('data.json', 'w') as outfile:\n",
    "    json.dump(ans, outfile)"
   ]
  },
  {
   "cell_type": "code",
   "execution_count": 14,
   "metadata": {},
   "outputs": [
    {
     "name": "stdout",
     "output_type": "stream",
     "text": [
      "<class 'list'>\n",
      "952914\n"
     ]
    }
   ],
   "source": [
    "print(type(ans))\n",
    "print(ans[0]['question_id'])"
   ]
  },
  {
   "cell_type": "code",
   "execution_count": 15,
   "metadata": {},
   "outputs": [
    {
     "name": "stdout",
     "output_type": "stream",
     "text": [
      "Okay 0th value is the accepted\n"
     ]
    }
   ],
   "source": [
    "if(ans[0]['is_accepted']):\n",
    "    print(\"Okay 0th value is the accepted\")"
   ]
  },
  {
   "cell_type": "code",
   "execution_count": 16,
   "metadata": {},
   "outputs": [
    {
     "name": "stdout",
     "output_type": "stream",
     "text": [
      "dict_keys(['owner', 'is_accepted', 'score', 'last_activity_date', 'last_edit_date', 'creation_date', 'answer_id', 'question_id', 'body'])\n"
     ]
    }
   ],
   "source": [
    "print(ans[0].keys())"
   ]
  },
  {
   "cell_type": "code",
   "execution_count": 17,
   "metadata": {},
   "outputs": [],
   "source": [
    "from bs4 import BeautifulSoup\n",
    "soup1 = BeautifulSoup(ans[0]['body'], 'html.parser')\n",
    "soup2 = BeautifulSoup(ans[1]['body'], 'html.parser')\n",
    "soup3 = BeautifulSoup(ans[2]['body'], 'html.parser')"
   ]
  },
  {
   "cell_type": "code",
   "execution_count": 20,
   "metadata": {},
   "outputs": [
    {
     "name": "stdout",
     "output_type": "stream",
     "text": [
      "<class 'str'>\n",
      "Given a list of lists l,\n",
      "flat_list = [item for sublist in l for item in sublist]\n",
      "which means:\n",
      "flat_list = []\n",
      "for sublist in l:\n",
      "    for item in sublist:\n",
      "        flat_list.append(item)\n",
      "\n",
      "is faster than the shortcuts posted so far. (l is the list to flatten.)\n",
      "Here is the corresponding function:\n",
      "flatten = lambda l: [item for sublist in l for item in sublist]\n",
      "\n",
      "As evidence, you can use the timeit module in the standard library:\n",
      "$ python -mtimeit -s'l=[[1,2,3],[4,5,6], [7], [8,9]]*99' '[item for sublist in l for item in sublist]'\n",
      "10000 loops, best of 3: 143 usec per loop\n",
      "$ python -mtimeit -s'l=[[1,2,3],[4,5,6], [7], [8,9]]*99' 'sum(l, [])'\n",
      "1000 loops, best of 3: 969 usec per loop\n",
      "$ python -mtimeit -s'l=[[1,2,3],[4,5,6], [7], [8,9]]*99' 'reduce(lambda x,y: x+y,l)'\n",
      "1000 loops, best of 3: 1.1 msec per loop\n",
      "\n",
      "Explanation: the shortcuts based on + (including the implied use in sum) are, of necessity, O(L**2) when there are L sublists -- as the intermediate result list keeps getting longer, at each step a new intermediate result list object gets allocated, and all the items in the previous intermediate result must be copied over (as well as a few new ones added at the end). So, for simplicity and without actual loss of generality, say you have L sublists of I items each: the first I items are copied back and forth L-1 times, the second I items L-2 times, and so on; total number of copies is I times the sum of x for x from 1 to L excluded, i.e., I * (L**2)/2.\n",
      "The list comprehension just generates one list, once, and copies each item over (from its original place of residence to the result list) also exactly once.\n",
      "\n",
      "\n",
      " \n",
      " \n",
      " \n",
      "\n",
      "Second Answer\n",
      "You can use itertools.chain():\n",
      ">>> import itertools\n",
      ">>> list2d = [[1,2,3],[4,5,6], [7], [8,9]]\n",
      ">>> merged = list(itertools.chain(*list2d))\n",
      "\n",
      "or, on Python >=2.6, use itertools.chain.from_iterable() which doesn't require unpacking the list:\n",
      ">>> import itertools\n",
      ">>> list2d = [[1,2,3],[4,5,6], [7], [8,9]]\n",
      ">>> merged = list(itertools.chain.from_iterable(list2d))\n",
      "\n",
      "This approach is arguably more readable than [item for sublist in l for item in sublist] and appears to be faster too:\n",
      "[me@home]$ python -mtimeit -s'l=[[1,2,3],[4,5,6], [7], [8,9]]*99;import itertools' 'list(itertools.chain.from_iterable(l))'\n",
      "10000 loops, best of 3: 24.2 usec per loop\n",
      "[me@home]$ python -mtimeit -s'l=[[1,2,3],[4,5,6], [7], [8,9]]*99' '[item for sublist in l for item in sublist]'\n",
      "10000 loops, best of 3: 45.2 usec per loop\n",
      "[me@home]$ python -mtimeit -s'l=[[1,2,3],[4,5,6], [7], [8,9]]*99' 'sum(l, [])'\n",
      "1000 loops, best of 3: 488 usec per loop\n",
      "[me@home]$ python -mtimeit -s'l=[[1,2,3],[4,5,6], [7], [8,9]]*99' 'reduce(lambda x,y: x+y,l)'\n",
      "1000 loops, best of 3: 522 usec per loop\n",
      "[me@home]$ python --version\n",
      "Python 2.7.3\n",
      "\n",
      "\n",
      "\n",
      " \n",
      " \n",
      " \n",
      "\n",
      "Third Answer\n",
      "Note from the author: This is inefficient. But fun, because monoids are awesome. It's not appropriate for production Python code.\n",
      ">>> sum(l, [])\n",
      "[1, 2, 3, 4, 5, 6, 7, 8, 9]\n",
      "\n",
      "This just sums the elements of iterable passed in the first argument, treating second argument as the initial value of the sum (if not given, 0 is used instead and this case will give you an error).\n",
      "Because you are summing nested lists, you actually get [1,3]+[2,4] as a result of sum([[1,3],[2,4]],[]), which is equal to [1,3,2,4].\n",
      "Note that only works on lists of lists. For lists of lists of lists, you'll need another solution.\n",
      "\n"
     ]
    }
   ],
   "source": [
    "print(type(soup1.get_text()))\n",
    "print(soup1.get_text())\n",
    "print(\"\\n \\n \\n \\n\")\n",
    "print(\"Second Answer\")\n",
    "print(soup2.get_text())\n",
    "print(\"\\n \\n \\n \\n\")\n",
    "print(\"Third Answer\")\n",
    "print(soup3.get_text())"
   ]
  },
  {
   "cell_type": "markdown",
   "metadata": {},
   "source": [
    "# Query based on tags by NLU and Similar search by stack api"
   ]
  },
  {
   "cell_type": "code",
   "execution_count": 15,
   "metadata": {},
   "outputs": [
    {
     "name": "stdout",
     "output_type": "stream",
     "text": [
      "So what is your query?how to get all the keys in python dictionary?\n"
     ]
    }
   ],
   "source": [
    "query = input(\"So what is your query?\")"
   ]
  },
  {
   "cell_type": "code",
   "execution_count": 16,
   "metadata": {},
   "outputs": [
    {
     "name": "stdout",
     "output_type": "stream",
     "text": [
      "<class 'dict'>\n"
     ]
    }
   ],
   "source": [
    "import json\n",
    "from ibm_watson import NaturalLanguageUnderstandingV1\n",
    "from ibm_watson.natural_language_understanding_v1 import Features, CategoriesOptions, KeywordsOptions\n",
    "\n",
    "credentials = {\"api_key\": \"FQIQwKhvfCy1pjNJqOZ6ZH3M8YZI6on5t8Hr0Eyumep2\",\n",
    "               \"api_url\": \"https://gateway.watsonplatform.net/natural-language-understanding/api\"}\n",
    "\n",
    "\n",
    "natural_language_understanding = NaturalLanguageUnderstandingV1(\n",
    "    version='2018-11-16',\n",
    "    iam_apikey=credentials['api_key'],\n",
    "    url=credentials['api_url']\n",
    ")\n",
    "\n",
    "text_test = query\n",
    "\n",
    "response = natural_language_understanding.analyze(\n",
    "    text=text_test,\n",
    "    features=Features(categories=CategoriesOptions(),keywords=KeywordsOptions(sentiment=True,emotion=True,limit=2))).get_result()\n",
    "# print(type(response))\n",
    "# print(json.dumps(response, indent=2))"
   ]
  },
  {
   "cell_type": "code",
   "execution_count": 21,
   "metadata": {},
   "outputs": [],
   "source": [
    "relevance_list = [x['text'] for x in response['keywords']]"
   ]
  },
  {
   "cell_type": "code",
   "execution_count": 22,
   "metadata": {},
   "outputs": [
    {
     "data": {
      "text/plain": [
       "['python dictionary', 'keys']"
      ]
     },
     "execution_count": 22,
     "metadata": {},
     "output_type": "execute_result"
    }
   ],
   "source": [
    "relevance_list"
   ]
  },
  {
   "cell_type": "code",
   "execution_count": 23,
   "metadata": {},
   "outputs": [],
   "source": [
    "relevance_list = [x.split() for x in relevance_list]"
   ]
  },
  {
   "cell_type": "code",
   "execution_count": 36,
   "metadata": {},
   "outputs": [],
   "source": [
    "final_list = []\n",
    "for i in relevance_list:\n",
    "#     print(i,\"len is \",len(i))\n",
    "    if len(i) > 1:\n",
    "#         print(i)\n",
    "        for j in i:\n",
    "            final_list.append(j)\n",
    "    else:\n",
    "        final_list.append(i[0])"
   ]
  },
  {
   "cell_type": "code",
   "execution_count": 39,
   "metadata": {},
   "outputs": [],
   "source": [
    "# is your question related to these?"
   ]
  },
  {
   "cell_type": "code",
   "execution_count": 46,
   "metadata": {},
   "outputs": [
    {
     "name": "stdout",
     "output_type": "stream",
     "text": [
      "Are all the below tags related to your query correct?\n",
      "python\n",
      "dictionary\n",
      "keys\n",
      "yes\n"
     ]
    }
   ],
   "source": [
    "print(\"Are all the below tags related to your query correct?\")\n",
    "for i in final_list:\n",
    "    print(i)\n",
    "\n",
    "agree = input()"
   ]
  },
  {
   "cell_type": "code",
   "execution_count": 48,
   "metadata": {},
   "outputs": [],
   "source": [
    "if agree == 'no' or agree == 'NO' or agree == 'No' or agree == 'nO':\n",
    "    print(\"oh shit the coder have'nt decided it yet\")"
   ]
  },
  {
   "cell_type": "code",
   "execution_count": 50,
   "metadata": {},
   "outputs": [
    {
     "data": {
      "text/plain": [
       "'https://api.stackexchange.com/2.2/similar?order=desc&sort=relevance&tagged=python;dictionary;keys&title=how to get all the keys in python dictionary?&site=stackoverflow'"
      ]
     },
     "execution_count": 50,
     "metadata": {},
     "output_type": "execute_result"
    }
   ],
   "source": [
    "api_url_1 = \"https://api.stackexchange.com/2.2/similar?order=desc&sort=relevance&tagged=\"+\";\".join(final_list)+\"&title=\"\n",
    "api_url_2 = query+\"&site=stackoverflow\"\n",
    "api_url = api_url_1 + api_url_2\n",
    "api_url"
   ]
  },
  {
   "cell_type": "code",
   "execution_count": 54,
   "metadata": {},
   "outputs": [],
   "source": [
    "# let's get top 30 questions\n",
    "import requests\n",
    "top_vote_questions = requests.get(api_url)\n",
    "top_vote_questions = top_vote_questions.json()\n",
    "\n",
    "#Please don't add other code in this cell because it will use api again and again while testing, Mohit"
   ]
  },
  {
   "cell_type": "code",
   "execution_count": 55,
   "metadata": {},
   "outputs": [
    {
     "name": "stdout",
     "output_type": "stream",
     "text": [
      "<class 'dict'>\n",
      "\n",
      "\n",
      "dict_keys(['items', 'has_more', 'quota_max', 'quota_remaining'])\n"
     ]
    }
   ],
   "source": [
    "print(type(top_vote_questions))\n",
    "print(\"\\n\")\n",
    "print(top_vote_questions.keys())"
   ]
  },
  {
   "cell_type": "code",
   "execution_count": 58,
   "metadata": {},
   "outputs": [
    {
     "name": "stdout",
     "output_type": "stream",
     "text": [
      "<class 'list'>\n"
     ]
    }
   ],
   "source": [
    "print(type(top_vote_questions['items']))"
   ]
  },
  {
   "cell_type": "code",
   "execution_count": 60,
   "metadata": {},
   "outputs": [
    {
     "name": "stdout",
     "output_type": "stream",
     "text": [
      "30\n"
     ]
    }
   ],
   "source": [
    "print(len(top_vote_questions['items']))"
   ]
  },
  {
   "cell_type": "code",
   "execution_count": 62,
   "metadata": {},
   "outputs": [
    {
     "name": "stdout",
     "output_type": "stream",
     "text": [
      "{'tags': ['python', 'python-3.x', 'ordereddictionary'], 'owner': {'reputation': 16712, 'user_id': 281545, 'user_type': 'registered', 'accept_rate': 85, 'profile_image': 'https://www.gravatar.com/avatar/e9afcf11d81904cdb5677c13d249b6c5?s=128&d=identicon&r=PG', 'display_name': 'Mr_and_Mrs_D', 'link': 'https://stackoverflow.com/users/281545/mr-and-mrs-d'}, 'is_answered': True, 'view_count': 3375, 'accepted_answer_id': 44147406, 'answer_count': 1, 'score': 6, 'last_activity_date': 1495630684, 'creation_date': 1495585516, 'last_edit_date': 1495630684, 'question_id': 44147047, 'link': 'https://stackoverflow.com/questions/44147047/ordereddict-in-python-3-how-to-get-the-keys-in-order', 'title': 'OrderedDict in python 3 - how to get the keys in order?'}\n"
     ]
    }
   ],
   "source": [
    "print(top_vote_questions['items'][1])"
   ]
  },
  {
   "cell_type": "code",
   "execution_count": 83,
   "metadata": {},
   "outputs": [
    {
     "name": "stdout",
     "output_type": "stream",
     "text": [
      "1  contains  {'dictionary'} with length 1\n",
      "2  contains  {'python'} with length 1\n",
      "3  contains  {'python', 'dictionary'} with length 2\n",
      "4  contains  {'python'} with length 1\n",
      "5  contains  {'python', 'dictionary'} with length 2\n",
      "6  contains  {'python', 'dictionary'} with length 2\n",
      "7  contains  {'python', 'dictionary'} with length 2\n",
      "8  contains  {'python', 'dictionary'} with length 2\n",
      "9  contains  {'python', 'dictionary'} with length 2\n",
      "10  contains  {'python', 'dictionary'} with length 2\n",
      "11  contains  {'python', 'dictionary'} with length 2\n",
      "13  contains  {'dictionary'} with length 1\n",
      "14  contains  {'python', 'dictionary'} with length 2\n",
      "15  contains  {'python', 'dictionary'} with length 2\n",
      "16  contains  {'python', 'dictionary'} with length 2\n",
      "17  contains  {'python'} with length 1\n",
      "18  contains  {'python', 'dictionary'} with length 2\n",
      "19  contains  {'python'} with length 1\n",
      "20  contains  {'python', 'dictionary'} with length 2\n",
      "21  contains  {'python', 'dictionary'} with length 2\n",
      "22  contains  {'python', 'dictionary'} with length 2\n",
      "23  contains  {'python', 'dictionary'} with length 2\n",
      "24  contains  {'dictionary'} with length 1\n",
      "25  contains  {'python', 'dictionary'} with length 2\n",
      "26  contains  {'python'} with length 1\n",
      "27  contains  {'python', 'dictionary'} with length 2\n",
      "29  contains  {'python', 'dictionary'} with length 2\n",
      "30  contains  {'python'} with length 1\n",
      "28\n"
     ]
    }
   ],
   "source": [
    "count = 1\n",
    "len_list=[]\n",
    "for i in top_vote_questions['items']:\n",
    "    if i['is_answered']:\n",
    "        print(count,\" contains \",set(i['tags']).intersection(final_list),\"with length\",len(set(i['tags']).intersection(final_list)))\n",
    "        len_list.append(len(set(i['tags']).intersection(final_list)))\n",
    "    count+=1\n",
    "print(len(len_list))\n",
    "# set(top_vote_questions['items'][1]['tags']).intersection(final_list)"
   ]
  },
  {
   "cell_type": "code",
   "execution_count": 74,
   "metadata": {},
   "outputs": [
    {
     "name": "stdout",
     "output_type": "stream",
     "text": [
      "1.7\n",
      "2\n",
      "2.0\n"
     ]
    }
   ],
   "source": [
    "# from statistics import mean,mode,median\n",
    "# print(mean(len_list))\n",
    "# print(mode(len_list))\n",
    "# print(median(len_list))"
   ]
  },
  {
   "cell_type": "code",
   "execution_count": 84,
   "metadata": {},
   "outputs": [],
   "source": [
    "from numpy import percentile"
   ]
  },
  {
   "cell_type": "code",
   "execution_count": 85,
   "metadata": {},
   "outputs": [
    {
     "data": {
      "text/plain": [
       "2.0"
      ]
     },
     "execution_count": 85,
     "metadata": {},
     "output_type": "execute_result"
    }
   ],
   "source": [
    "percentile(len_list,75)"
   ]
  },
  {
   "cell_type": "code",
   "execution_count": 78,
   "metadata": {},
   "outputs": [],
   "source": [
    "list1 = [1,2,1,1,1,1,1]\n",
    "list2 = [1,2,2,3,2,2,3,3,3,4]"
   ]
  },
  {
   "cell_type": "code",
   "execution_count": 86,
   "metadata": {},
   "outputs": [
    {
     "name": "stdout",
     "output_type": "stream",
     "text": [
      "1.0\n",
      "3.0\n"
     ]
    }
   ],
   "source": [
    "print(percentile(list1,75))\n",
    "print(percentile(list2,75))"
   ]
  },
  {
   "cell_type": "markdown",
   "metadata": {},
   "source": [
    "# let's play with title as a feature "
   ]
  },
  {
   "cell_type": "code",
   "execution_count": 87,
   "metadata": {},
   "outputs": [
    {
     "name": "stdout",
     "output_type": "stream",
     "text": [
      "Get all the keys in Array of Dictionary\n",
      "OrderedDict in python 3 - how to get the keys in order?\n",
      "How to Compare Two Dictionary Keys in Python?\n",
      "how to get all the key from one bucket in couchbase?\n",
      "How to access the values of all the keys in the dictionary?\n",
      "python dictionary: How to get all keys with specific values\n",
      "Replace the Keys in a dictionary by Integers\n",
      "python get all keys in subdictorionaries\n",
      "Access nested key-values in Python dictionary\n",
      "Iterate through Python dictionary by Keys in sorted order\n",
      "How to get the index with the key in Python dictionary?\n",
      "Python duplicate keys in a dictionary.(one - many relation)\n",
      "finding the keys of all the largest values in python dictionary?\n",
      "Python Iterating in a dictionary to get empty key&#39;s\n",
      "Python Reference Dictionary Key in same Dictionary\n",
      "get all keys combination in nested python dictionary\n",
      "How to get all the keys of a Json document using pymongo?\n",
      "How do I return a new dictionary if the keys in one dictionary, match the keys in another dictionary?\n",
      "How I get ALL keys in Redis? 1+ billion keys in total\n",
      "How to get key of a value in python dictionary?\n",
      "How to get the path all the keys in a list for a nested dict\n",
      "Access keys in a list of dictionaries in Python\n",
      "Python dictionary: Remove all the keys that begins with s\n",
      "How to get collection of keys in javascript dictionary?\n",
      "python dictionary match keys in two dictionaries when the keys are combinations of two strings\n",
      "get all the unique secondary keys in a dictionary python\n",
      "multiple keys in python dictionary, is possible?\n",
      "Reversing values and keys in Python dictionary\n",
      "Biggest value of (not all) dictionary keys in Python\n",
      "Duplicate keys in python dictionary\n"
     ]
    }
   ],
   "source": [
    "for i in top_vote_questions['items']:\n",
    "    print(i['title'])"
   ]
  },
  {
   "cell_type": "code",
   "execution_count": null,
   "metadata": {},
   "outputs": [],
   "source": []
  }
 ],
 "metadata": {
  "kernelspec": {
   "display_name": "Python 3",
   "language": "python",
   "name": "python3"
  },
  "language_info": {
   "codemirror_mode": {
    "name": "ipython",
    "version": 3
   },
   "file_extension": ".py",
   "mimetype": "text/x-python",
   "name": "python",
   "nbconvert_exporter": "python",
   "pygments_lexer": "ipython3",
   "version": "3.6.4"
  }
 },
 "nbformat": 4,
 "nbformat_minor": 2
}
